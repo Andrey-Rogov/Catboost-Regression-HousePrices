{
 "cells": [
  {
   "cell_type": "code",
   "execution_count": 8,
   "metadata": {},
   "outputs": [],
   "source": [
    "import pandas as pd\n",
    "import numpy as np\n",
    "from sklearn.pipeline import Pipeline\n",
    "from sklearn.model_selection import train_test_split, cross_val_score\n",
    "from sklearn.metrics import accuracy_score, mean_squared_error, mean_absolute_error, r2_score\n",
    "from sklearn.preprocessing import LabelEncoder\n",
    "from sklearn.linear_model import LinearRegression\n",
    "import importlib.util\n",
    "import sys\n",
    "from catboost import CatBoostRegressor\n",
    "\n",
    "spec = importlib.util.spec_from_file_location(\"preprocess\", \"../src/data/preprocess.py\")\n",
    "preprocess = importlib.util.module_from_spec(spec)\n",
    "sys.modules[\"preprocess\"] = preprocess\n",
    "spec.loader.exec_module(preprocess)\n",
    "\n",
    "spec = importlib.util.spec_from_file_location(\"build_features\", \"../src/features/build_features.py\")\n",
    "build_features = importlib.util.module_from_spec(spec)\n",
    "sys.modules[\"build_features\"] = build_features\n",
    "spec.loader.exec_module(build_features)\n",
    "\n",
    "spec = importlib.util.spec_from_file_location(\"predict_model\", \"../src/models/predict_model.py\")\n",
    "predict_model = importlib.util.module_from_spec(spec)\n",
    "sys.modules[\"predict_model\"] = predict_model\n",
    "spec.loader.exec_module(predict_model)\n",
    "\n",
    "spec = importlib.util.spec_from_file_location(\"train_model\", \"../src/models/train_model.py\")\n",
    "train_model = importlib.util.module_from_spec(spec)\n",
    "sys.modules[\"train_model\"] = train_model\n",
    "spec.loader.exec_module(train_model)"
   ]
  },
  {
   "cell_type": "code",
   "execution_count": 9,
   "metadata": {},
   "outputs": [],
   "source": [
    "x = pd.read_csv('../data/raw/train.csv')\n",
    "x_test = pd.read_csv('../data/raw/test.csv')"
   ]
  },
  {
   "cell_type": "code",
   "execution_count": 10,
   "metadata": {
    "scrolled": true
   },
   "outputs": [],
   "source": [
    "NOT_FULL = [col for col in x.columns if x[col].dropna().shape[0] != 1460]\n",
    "OBJ_TYPE = [col for col in x.columns if x[col].dtype == object]\n",
    "FULL = [col for col in x.columns if x[col].dropna().shape[0] == 1460]\n",
    "NUM_TYPE = [col for col in x.columns if x[col].dtype == np.int64 or x[col].dtype == np.float64]"
   ]
  },
  {
   "cell_type": "code",
   "execution_count": 11,
   "metadata": {},
   "outputs": [],
   "source": [
    "x_train = x.drop(['SalePrice'], axis=1)\n",
    "y = x['SalePrice']"
   ]
  },
  {
   "cell_type": "code",
   "execution_count": 12,
   "metadata": {},
   "outputs": [],
   "source": [
    "a = x_train.corr(numeric_only=True)\n",
    "correlations = dict()\n",
    "for col1 in a.columns:\n",
    "    for col2 in a.columns:\n",
    "        if col1 != col2:\n",
    "            if abs(a[col1][col2]) > 0.6:\n",
    "                if col1 in correlations:\n",
    "                    correlations[col1].append((col2, round(a[col1][col2], 1)))\n",
    "                else:\n",
    "                    correlations[col1] = [(col2, round(a[col1][col2], 1))]"
   ]
  },
  {
   "cell_type": "markdown",
   "metadata": {},
   "source": [
    "Здесь можно увидеть множество самых сильных корреляций среди признаков"
   ]
  },
  {
   "cell_type": "code",
   "execution_count": 13,
   "metadata": {},
   "outputs": [
    {
     "name": "stdout",
     "output_type": "stream",
     "text": [
      "OverallQual [('GarageCars', 0.6)]\n",
      "YearBuilt [('GarageYrBlt', 0.8)]\n",
      "YearRemodAdd [('GarageYrBlt', 0.6)]\n",
      "BsmtFinSF1 [('BsmtFullBath', 0.6)]\n",
      "TotalBsmtSF [('1stFlrSF', 0.8)]\n",
      "1stFlrSF [('TotalBsmtSF', 0.8)]\n",
      "2ndFlrSF [('GrLivArea', 0.7), ('HalfBath', 0.6), ('TotRmsAbvGrd', 0.6)]\n",
      "GrLivArea [('2ndFlrSF', 0.7), ('FullBath', 0.6), ('TotRmsAbvGrd', 0.8)]\n",
      "BsmtFullBath [('BsmtFinSF1', 0.6)]\n",
      "FullBath [('GrLivArea', 0.6)]\n",
      "HalfBath [('2ndFlrSF', 0.6)]\n",
      "BedroomAbvGr [('TotRmsAbvGrd', 0.7)]\n",
      "TotRmsAbvGrd [('2ndFlrSF', 0.6), ('GrLivArea', 0.8), ('BedroomAbvGr', 0.7)]\n",
      "GarageYrBlt [('YearBuilt', 0.8), ('YearRemodAdd', 0.6)]\n",
      "GarageCars [('OverallQual', 0.6), ('GarageArea', 0.9)]\n",
      "GarageArea [('GarageCars', 0.9)]\n"
     ]
    }
   ],
   "source": [
    "for i in correlations:\n",
    "    print(i, correlations[i])"
   ]
  },
  {
   "cell_type": "markdown",
   "metadata": {},
   "source": [
    "# Preprocessing and validation in Pipeline"
   ]
  },
  {
   "cell_type": "code",
   "execution_count": 69,
   "metadata": {
    "scrolled": true
   },
   "outputs": [
    {
     "name": "stderr",
     "output_type": "stream",
     "text": [
      "C:\\Users\\Andre\\AppData\\Local\\Programs\\Python\\Python310\\lib\\site-packages\\catboost\\core.py:1419: FutureWarning: iteritems is deprecated and will be removed in a future version. Use .items instead.\n",
      "  self._init_pool(data, label, cat_features, text_features, embedding_features, embedding_features_data, pairs, weight,\n",
      "C:\\Users\\Andre\\AppData\\Local\\Programs\\Python\\Python310\\lib\\site-packages\\catboost\\core.py:1419: FutureWarning: iteritems is deprecated and will be removed in a future version. Use .items instead.\n",
      "  self._init_pool(data, label, cat_features, text_features, embedding_features, embedding_features_data, pairs, weight,\n",
      "C:\\Users\\Andre\\AppData\\Local\\Programs\\Python\\Python310\\lib\\site-packages\\catboost\\core.py:1419: FutureWarning: iteritems is deprecated and will be removed in a future version. Use .items instead.\n",
      "  self._init_pool(data, label, cat_features, text_features, embedding_features, embedding_features_data, pairs, weight,\n",
      "C:\\Users\\Andre\\AppData\\Local\\Programs\\Python\\Python310\\lib\\site-packages\\catboost\\core.py:1419: FutureWarning: iteritems is deprecated and will be removed in a future version. Use .items instead.\n",
      "  self._init_pool(data, label, cat_features, text_features, embedding_features, embedding_features_data, pairs, weight,\n",
      "C:\\Users\\Andre\\AppData\\Local\\Programs\\Python\\Python310\\lib\\site-packages\\catboost\\core.py:1419: FutureWarning: iteritems is deprecated and will be removed in a future version. Use .items instead.\n",
      "  self._init_pool(data, label, cat_features, text_features, embedding_features, embedding_features_data, pairs, weight,\n",
      "C:\\Users\\Andre\\AppData\\Local\\Programs\\Python\\Python310\\lib\\site-packages\\catboost\\core.py:1419: FutureWarning: iteritems is deprecated and will be removed in a future version. Use .items instead.\n",
      "  self._init_pool(data, label, cat_features, text_features, embedding_features, embedding_features_data, pairs, weight,\n",
      "C:\\Users\\Andre\\AppData\\Local\\Programs\\Python\\Python310\\lib\\site-packages\\catboost\\core.py:1419: FutureWarning: iteritems is deprecated and will be removed in a future version. Use .items instead.\n",
      "  self._init_pool(data, label, cat_features, text_features, embedding_features, embedding_features_data, pairs, weight,\n",
      "C:\\Users\\Andre\\AppData\\Local\\Programs\\Python\\Python310\\lib\\site-packages\\catboost\\core.py:1419: FutureWarning: iteritems is deprecated and will be removed in a future version. Use .items instead.\n",
      "  self._init_pool(data, label, cat_features, text_features, embedding_features, embedding_features_data, pairs, weight,\n",
      "C:\\Users\\Andre\\AppData\\Local\\Programs\\Python\\Python310\\lib\\site-packages\\catboost\\core.py:1419: FutureWarning: iteritems is deprecated and will be removed in a future version. Use .items instead.\n",
      "  self._init_pool(data, label, cat_features, text_features, embedding_features, embedding_features_data, pairs, weight,\n"
     ]
    },
    {
     "name": "stdout",
     "output_type": "stream",
     "text": [
      "[0.87121004 0.7302451  0.74908027 0.83832124 0.66747786]\n"
     ]
    },
    {
     "name": "stderr",
     "output_type": "stream",
     "text": [
      "C:\\Users\\Andre\\AppData\\Local\\Programs\\Python\\Python310\\lib\\site-packages\\catboost\\core.py:1419: FutureWarning: iteritems is deprecated and will be removed in a future version. Use .items instead.\n",
      "  self._init_pool(data, label, cat_features, text_features, embedding_features, embedding_features_data, pairs, weight,\n"
     ]
    }
   ],
   "source": [
    "pipe_of_insight = Pipeline([\n",
    "    ('cleaning', preprocess.PreprocessTransformer()),\n",
    "    ('features', build_features.FeaturesTransformer()),\n",
    "    ('catmodel', CatBoostRegressor(n_estimators=100,\n",
    "                                   depth=2,\n",
    "                                   learning_rate=1, \n",
    "                                   loss_function='MAE',\n",
    "                                 verbose=False))\n",
    "])\n",
    "\n",
    "scores = cross_val_score(estimator=pipe_of_insight,\n",
    "                         X=x_train, y=y, \n",
    "                         scoring='r2', cv=5, \n",
    "                         n_jobs=1)\n",
    "print(scores)"
   ]
  },
  {
   "cell_type": "markdown",
   "metadata": {},
   "source": [
    "Для оценки модели в задаче регрессии я выбрал метрику R2 score, поскольку она отражает объективную оценку качества предсказаний, что позволяет сравнивать предсказания разных моделей. В то время как значения MSE или MAE могут сильно отличаться в зависимости от задачи, являясь из-за этого очень субъективными. "
   ]
  },
  {
   "cell_type": "markdown",
   "metadata": {},
   "source": [
    "Так же попробовал добавить 2 новых фичи: наличие обеих ванн на первом этаже и на этажах выше. Однако R2 с ними упал с 0.82 на тестовой выборке до 0.77, поэтому функция их добавления закомментирована в скрипте добавления фич"
   ]
  },
  {
   "cell_type": "markdown",
   "metadata": {},
   "source": [
    "# Preprocessing and validation in sklearn functions"
   ]
  },
  {
   "cell_type": "code",
   "execution_count": 14,
   "metadata": {},
   "outputs": [
    {
     "name": "stderr",
     "output_type": "stream",
     "text": [
      "C:\\Users\\Andre\\AppData\\Local\\Programs\\Python\\Python310\\lib\\site-packages\\catboost\\core.py:1419: FutureWarning: iteritems is deprecated and will be removed in a future version. Use .items instead.\n",
      "  self._init_pool(data, label, cat_features, text_features, embedding_features, embedding_features_data, pairs, weight,\n"
     ]
    },
    {
     "name": "stdout",
     "output_type": "stream",
     "text": [
      "0.820060174527121\n",
      "0.909855806317886\n"
     ]
    }
   ],
   "source": [
    "transformer1 = build_features.FeaturesTransformer()\n",
    "transformer1.fit(x_train, y)\n",
    "x_traint = transformer1.transform(x_train)\n",
    "\n",
    "transformer2 = preprocess.PreprocessTransformer()\n",
    "transformer2.fit(x_train, y)\n",
    "x_train = transformer2.transform(x_train)\n",
    "\n",
    "x_test = preprocess.prep_test(x_test)\n",
    "\n",
    "X_train, X_test, y_train, y_test = train_test_split(x_train, y, random_state=64)\n",
    "model = train_model.train(X_train, y_train)\n",
    "test_score, train_score = predict_model.predict(model, X_train, X_test, y_train, y_test)\n",
    "\n",
    "print(test_score)\n",
    "print(train_score)"
   ]
  },
  {
   "cell_type": "markdown",
   "metadata": {},
   "source": [
    "### n_estimators = 50, max_depth = 8\n",
    "    R2 for test: 0.651\n",
    "    R2 for train: 0.979\n",
    "### n_estimators = 50, max_depth = 4\n",
    "    R2 for test: 0.653\n",
    "    R2 for train: 0.936\n",
    "### n_estimators = 100, max_depth = 8\n",
    "    R2 for test: 0.626\n",
    "    R2 for train: 0.992\n",
    "### n_estimators = 100, max_depth = 4\n",
    "    R2 for test: 0.656\n",
    "    R2 for train: 0.952\n",
    "### n_estimators = 100, max_depth = 2\n",
    "    R2 for test: 0.82\n",
    "    R2 for train: 0.91\n",
    "### n_estimators = 50, max_depth = 2\n",
    "    R2 for test: 0.813\n",
    "    R2 for train: 0.889"
   ]
  },
  {
   "cell_type": "code",
   "execution_count": 79,
   "metadata": {},
   "outputs": [
    {
     "name": "stderr",
     "output_type": "stream",
     "text": [
      "C:\\Users\\Andre\\AppData\\Local\\Programs\\Python\\Python310\\lib\\site-packages\\catboost\\core.py:1419: FutureWarning: iteritems is deprecated and will be removed in a future version. Use .items instead.\n",
      "  self._init_pool(data, label, cat_features, text_features, embedding_features, embedding_features_data, pairs, weight,\n"
     ]
    }
   ],
   "source": [
    "final_pred = model.predict(x_test)"
   ]
  },
  {
   "cell_type": "code",
   "execution_count": 80,
   "metadata": {},
   "outputs": [],
   "source": [
    "final_pred = pd.Series(data=final_pred)"
   ]
  },
  {
   "cell_type": "code",
   "execution_count": 81,
   "metadata": {},
   "outputs": [
    {
     "data": {
      "text/plain": [
       "0       124830.000071\n",
       "1       163408.999992\n",
       "2       189550.000005\n",
       "3       183074.999964\n",
       "4       193138.000025\n",
       "            ...      \n",
       "1454     74851.999988\n",
       "1455     86439.999942\n",
       "1456    175686.999990\n",
       "1457    126642.000010\n",
       "1458    242407.000088\n",
       "Length: 1459, dtype: float64"
      ]
     },
     "execution_count": 81,
     "metadata": {},
     "output_type": "execute_result"
    }
   ],
   "source": [
    "final_pred"
   ]
  },
  {
   "cell_type": "code",
   "execution_count": 82,
   "metadata": {},
   "outputs": [],
   "source": [
    "final_pred.to_csv('../data/raw/sample_solution.csv')"
   ]
  },
  {
   "cell_type": "markdown",
   "metadata": {},
   "source": [
    "Это наши предсказания по валидационной выборке. За неимением y_val проверить их точность, к сожалению, не можем, поэтому просто сохраняем в .csv"
   ]
  },
  {
   "cell_type": "code",
   "execution_count": null,
   "metadata": {},
   "outputs": [],
   "source": []
  }
 ],
 "metadata": {
  "kernelspec": {
   "display_name": "Python 3 (ipykernel)",
   "language": "python",
   "name": "python3"
  },
  "language_info": {
   "codemirror_mode": {
    "name": "ipython",
    "version": 3
   },
   "file_extension": ".py",
   "mimetype": "text/x-python",
   "name": "python",
   "nbconvert_exporter": "python",
   "pygments_lexer": "ipython3",
   "version": "3.10.7"
  }
 },
 "nbformat": 4,
 "nbformat_minor": 2
}
